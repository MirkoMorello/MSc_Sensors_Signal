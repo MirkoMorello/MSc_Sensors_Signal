{
 "cells": [
  {
   "cell_type": "code",
   "execution_count": null,
   "metadata": {},
   "outputs": [
    {
     "data": {
      "application/vnd.jupyter.widget-view+json": {
       "model_id": "ae16e9bc6eb8483bb57db182139ec43d",
       "version_major": 2,
       "version_minor": 0
      },
      "text/plain": [
       "README.md:   0%|          | 0.00/10.2k [00:00<?, ?B/s]"
      ]
     },
     "metadata": {},
     "output_type": "display_data"
    },
    {
     "data": {
      "application/vnd.jupyter.widget-view+json": {
       "model_id": "ca286d63b0a348d9afc756bbc91243ee",
       "version_major": 2,
       "version_minor": 0
      },
      "text/plain": [
       "librispeech_asr.py:   0%|          | 0.00/11.4k [00:00<?, ?B/s]"
      ]
     },
     "metadata": {},
     "output_type": "display_data"
    }
   ],
   "source": [
    "import torchaudio\n",
    "import librosa\n",
    "import numpy as np\n",
    "import matplotlib.pyplot as plt\n",
    "from datasets import load_dataset\n",
    "\n",
    "\n",
    "librispeech = load_dataset(\"librispeech_asr\", \"clean\", split=\"train.100\")\n",
    "sample_speech = librispeech[0][\"audio\"][\"array\"]\n",
    "sr_speech = librispeech[0][\"audio\"][\"sampling_rate\"]\n",
    "\n",
    "\n",
    "urbansound = load_dataset(\"danavery/urban-sound-8K\", split=\"train\")\n",
    "sample_noise = urbansound[0][\"audio\"][\"array\"]\n",
    "sr_noise = urbansound[0][\"audio\"][\"sampling_rate\"]\n",
    "\n",
    "def plot_audio(audio, sr, title):\n",
    "    plt.figure(figsize=(10, 3))\n",
    "    plt.title(title)\n",
    "    librosa.display.waveshow(audio, sr=sr)\n",
    "    plt.show()\n",
    "\n",
    "    D = librosa.stft(audio)\n",
    "    S_db = librosa.amplitude_to_db(np.abs(D), ref=np.max)\n",
    "    plt.figure(figsize=(10, 3))\n",
    "    librosa.display.specshow(S_db, sr=sr, x_axis='time', y_axis='log')\n",
    "    plt.colorbar(format='%+2.0f dB')\n",
    "    plt.title(f\"Spectrogram: {title}\")\n",
    "    plt.show()\n",
    "\n",
    "plot_audio(sample_speech, sr_speech, \"Clean Speech (LibriSpeech)\")\n",
    "plot_audio(sample_noise, sr_noise, \"Noise (UrbanSound8K)\")"
   ]
  },
  {
   "cell_type": "code",
   "execution_count": null,
   "metadata": {},
   "outputs": [],
   "source": []
  }
 ],
 "metadata": {
  "kernelspec": {
   "display_name": "Python 3",
   "language": "python",
   "name": "python3"
  },
  "language_info": {
   "codemirror_mode": {
    "name": "ipython",
    "version": 3
   },
   "file_extension": ".py",
   "mimetype": "text/x-python",
   "name": "python",
   "nbconvert_exporter": "python",
   "pygments_lexer": "ipython3",
   "version": "3.11.3"
  }
 },
 "nbformat": 4,
 "nbformat_minor": 2
}
