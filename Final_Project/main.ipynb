{
 "cells": [
  {
   "cell_type": "code",
   "execution_count": null,
   "metadata": {},
   "outputs": [
    {
     "data": {
      "application/vnd.jupyter.widget-view+json": {
       "model_id": "e00c938a6c4a45dc85324bf2555bc5bc",
       "version_major": 2,
       "version_minor": 0
      },
      "text/plain": [
       "Downloading data:   0%|          | 0.00/6.39G [00:00<?, ?B/s]"
      ]
     },
     "metadata": {},
     "output_type": "display_data"
    }
   ],
   "source": [
    "import torchaudio\n",
    "import librosa\n",
    "import numpy as np\n",
    "import matplotlib.pyplot as plt\n",
    "from datasets import load_dataset\n",
    "\n",
    "\n",
    "librispeech = load_dataset(\"librispeech_asr\", \"clean\", split=\"train.100\")\n",
    "sample_speech = librispeech[0][\"audio\"][\"array\"]\n",
    "sr_speech = librispeech[0][\"audio\"][\"sampling_rate\"]\n",
    "\n",
    "\n",
    "urbansound = load_dataset(\"danavery/urban-sound-8K\", split=\"train\")\n",
    "sample_noise = urbansound[0][\"audio\"][\"array\"]\n",
    "sr_noise = urbansound[0][\"audio\"][\"sampling_rate\"]\n",
    "\n",
    "def plot_audio(audio, sr, title):\n",
    "    plt.figure(figsize=(10, 3))\n",
    "    plt.title(title)\n",
    "    librosa.display.waveshow(audio, sr=sr)\n",
    "    plt.show()\n",
    "\n",
    "    D = librosa.stft(audio)\n",
    "    S_db = librosa.amplitude_to_db(np.abs(D), ref=np.max)\n",
    "    plt.figure(figsize=(10, 3))\n",
    "    librosa.display.specshow(S_db, sr=sr, x_axis='time', y_axis='log')\n",
    "    plt.colorbar(format='%+2.0f dB')\n",
    "    plt.title(f\"Spectrogram: {title}\")\n",
    "    plt.show()\n",
    "\n",
    "plot_audio(sample_speech, sr_speech, \"Clean Speech (LibriSpeech)\")\n",
    "plot_audio(sample_noise, sr_noise, \"Noise (UrbanSound8K)\")"
   ]
  },
  {
   "cell_type": "markdown",
   "metadata": {},
   "source": [
    "---\n",
    "# <center>Preprocess & Mix Signals\n"
   ]
  },
  {
   "cell_type": "code",
   "execution_count": null,
   "metadata": {},
   "outputs": [],
   "source": [
    "def mix_noise(clean, noise, sr_clean, sr_noise, target_snr_db):\n",
    "    # resample noise to match clean audio's sample rate\n",
    "    if sr_noise != sr_clean:\n",
    "        noise = librosa.resample(noise, orig_sr=sr_noise, target_sr=sr_clean)\n",
    "    \n",
    "    # truncate or loop noise to match clean audio length\n",
    "    if len(noise) < len(clean):\n",
    "        # if noise is shorter, loop it until it matches the length of clean audio\n",
    "        noise = np.tile(noise, (len(clean) // len(noise)) + 1)\n",
    "    noise = noise[:len(clean)]\n",
    "    \n",
    "    # calculate power of clean speech and noise\n",
    "    power_clean = np.mean(clean ** 2)\n",
    "    power_noise = np.mean(noise ** 2)\n",
    "    \n",
    "    # scale noise to match target SNR\n",
    "    target_power_noise = power_clean / (10 ** (target_snr_db / 10))\n",
    "    scaled_noise = np.sqrt(target_power_noise / power_noise) * noise\n",
    "    \n",
    "    # mix clean speech with noise\n",
    "    noisy = clean + scaled_noise\n",
    "    return noisy, clean\n",
    "\n",
    "# mix at SNR = 5dB (high noise)\n",
    "noisy_audio, clean_audio = mix_noise(\n",
    "    clean=sample_speech,\n",
    "    noise=sample_noise,\n",
    "    sr_clean=sr_speech,\n",
    "    sr_noise=sr_noise,\n",
    "    target_snr_db=5\n",
    ")\n",
    "\n",
    "plot_audio(noisy_audio, sr_speech, \"Noisy Speech (SNR=5dB)\")"
   ]
  },
  {
   "cell_type": "markdown",
   "metadata": {},
   "source": [
    "---\n",
    "# <center>Generate Synthetic Dataset"
   ]
  },
  {
   "cell_type": "code",
   "execution_count": null,
   "metadata": {},
   "outputs": [],
   "source": [
    "import soundfile as sf\n",
    "import os\n",
    "\n",
    "def generate_dataset(librispeech, urbansound, output_dir, num_samples=100, snr_levels=[0, 5, 10]):\n",
    "    os.makedirs(output_dir, exist_ok=True)\n",
    "    \n",
    "    for i in range(num_samples):\n",
    "        # clean speech\n",
    "        speech = librispeech[i][\"audio\"][\"array\"]\n",
    "        sr_speech = librispeech[i][\"audio\"][\"sampling_rate\"]\n",
    "        \n",
    "        # randomly select noise\n",
    "        noise_idx = np.random.randint(0, len(urbansound))\n",
    "        noise = urbansound[noise_idx][\"audio\"][\"array\"]\n",
    "        sr_noise = urbansound[noise_idx][\"audio\"][\"sampling_rate\"]\n",
    "        \n",
    "        for snr in snr_levels:\n",
    "            # mix signals\n",
    "            noisy, clean = mix_noise(speech, noise, sr_speech, sr_noise, snr)\n",
    "            \n",
    "            # save audio files\n",
    "            sf.write(f\"{output_dir}/noisy_snr{snr}_sample{i}.wav\", noisy, sr_speech)\n",
    "            sf.write(f\"{output_dir}/clean_snr{snr}_sample{i}.wav\", clean, sr_speech)\n",
    "\n",
    "# generate 100 samples with SNR=0dB, 5dB, 10dB\n",
    "generate_dataset(librispeech, urbansound, \"noisy_speech_dataset\")"
   ]
  },
  {
   "cell_type": "markdown",
   "metadata": {},
   "source": [
    "---\n",
    "# <center>Evaluate with Whisper (WER Calculation)"
   ]
  },
  {
   "cell_type": "code",
   "execution_count": null,
   "metadata": {},
   "outputs": [],
   "source": [
    "import whisper\n",
    "from jiwer import wer\n",
    "\n",
    "\n",
    "model = whisper.load_model(\"base\")\n",
    "\n",
    "def transcribe_and_evaluate(clean_path, noisy_path):\n",
    "    clean_text = model.transcribe(clean_path)[\"text\"]\n",
    "    \n",
    "    noisy_text = model.transcribe(noisy_path)[\"text\"]\n",
    "    \n",
    "    return wer(clean_text, noisy_text), clean_text, noisy_text\n",
    "\n",
    "clean_path = \"noisy_speech_dataset/clean_snr5_sample0.wav\"\n",
    "noisy_path = \"noisy_speech_dataset/noisy_snr5_sample0.wav\"\n",
    "wer_score, clean_txt, noisy_txt = transcribe_and_evaluate(clean_path, noisy_path)\n",
    "\n",
    "print(f\"Clean Transcription: {clean_txt}\")\n",
    "print(f\"Noisy Transcription: {noisy_txt}\")\n",
    "print(f\"WER: {wer_score:.2f}\")"
   ]
  }
 ],
 "metadata": {
  "kernelspec": {
   "display_name": "Python 3",
   "language": "python",
   "name": "python3"
  },
  "language_info": {
   "codemirror_mode": {
    "name": "ipython",
    "version": 3
   },
   "file_extension": ".py",
   "mimetype": "text/x-python",
   "name": "python",
   "nbconvert_exporter": "python",
   "pygments_lexer": "ipython3",
   "version": "3.11.3"
  }
 },
 "nbformat": 4,
 "nbformat_minor": 2
}
